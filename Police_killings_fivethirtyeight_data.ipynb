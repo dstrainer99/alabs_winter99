{
 "cells": [
  {
   "cell_type": "code",
   "execution_count": 9,
   "metadata": {
    "collapsed": true
   },
   "outputs": [],
   "source": [
    "import pandas as pd\n",
    "import matplotlib.pyplot as plt\n",
    "import numpy as np\n",
    "import seaborn as sns\n",
    "%matplotlib inline\n"
   ]
  },
  {
   "cell_type": "code",
   "execution_count": 94,
   "metadata": {
    "collapsed": true
   },
   "outputs": [],
   "source": [
    "police_killings = pd.read_csv(\"police_killings.csv\",encoding = \"ISO-8859-1\")\n"
   ]
  },
  {
   "cell_type": "code",
   "execution_count": 95,
   "metadata": {},
   "outputs": [
    {
     "data": {
      "text/html": [
       "<div>\n",
       "<table border=\"1\" class=\"dataframe\">\n",
       "  <thead>\n",
       "    <tr style=\"text-align: right;\">\n",
       "      <th></th>\n",
       "      <th>name</th>\n",
       "      <th>age</th>\n",
       "      <th>gender</th>\n",
       "      <th>raceethnicity</th>\n",
       "      <th>month</th>\n",
       "      <th>day</th>\n",
       "      <th>year</th>\n",
       "      <th>streetaddress</th>\n",
       "      <th>city</th>\n",
       "      <th>state</th>\n",
       "      <th>...</th>\n",
       "      <th>share_hispanic</th>\n",
       "      <th>p_income</th>\n",
       "      <th>h_income</th>\n",
       "      <th>county_income</th>\n",
       "      <th>comp_income</th>\n",
       "      <th>county_bucket</th>\n",
       "      <th>nat_bucket</th>\n",
       "      <th>pov</th>\n",
       "      <th>urate</th>\n",
       "      <th>college</th>\n",
       "    </tr>\n",
       "  </thead>\n",
       "  <tbody>\n",
       "    <tr>\n",
       "      <th>0</th>\n",
       "      <td>A'donte Washington</td>\n",
       "      <td>16</td>\n",
       "      <td>Male</td>\n",
       "      <td>Black</td>\n",
       "      <td>February</td>\n",
       "      <td>23</td>\n",
       "      <td>2015</td>\n",
       "      <td>Clearview Ln</td>\n",
       "      <td>Millbrook</td>\n",
       "      <td>AL</td>\n",
       "      <td>...</td>\n",
       "      <td>5.6</td>\n",
       "      <td>28375</td>\n",
       "      <td>51367.0</td>\n",
       "      <td>54766</td>\n",
       "      <td>0.937936</td>\n",
       "      <td>3.0</td>\n",
       "      <td>3.0</td>\n",
       "      <td>14.1</td>\n",
       "      <td>0.097686</td>\n",
       "      <td>0.168510</td>\n",
       "    </tr>\n",
       "    <tr>\n",
       "      <th>1</th>\n",
       "      <td>Aaron Rutledge</td>\n",
       "      <td>27</td>\n",
       "      <td>Male</td>\n",
       "      <td>White</td>\n",
       "      <td>April</td>\n",
       "      <td>2</td>\n",
       "      <td>2015</td>\n",
       "      <td>300 block Iris Park Dr</td>\n",
       "      <td>Pineville</td>\n",
       "      <td>LA</td>\n",
       "      <td>...</td>\n",
       "      <td>0.5</td>\n",
       "      <td>14678</td>\n",
       "      <td>27972.0</td>\n",
       "      <td>40930</td>\n",
       "      <td>0.683411</td>\n",
       "      <td>2.0</td>\n",
       "      <td>1.0</td>\n",
       "      <td>28.8</td>\n",
       "      <td>0.065724</td>\n",
       "      <td>0.111402</td>\n",
       "    </tr>\n",
       "    <tr>\n",
       "      <th>2</th>\n",
       "      <td>Aaron Siler</td>\n",
       "      <td>26</td>\n",
       "      <td>Male</td>\n",
       "      <td>White</td>\n",
       "      <td>March</td>\n",
       "      <td>14</td>\n",
       "      <td>2015</td>\n",
       "      <td>22nd Ave and 56th St</td>\n",
       "      <td>Kenosha</td>\n",
       "      <td>WI</td>\n",
       "      <td>...</td>\n",
       "      <td>16.8</td>\n",
       "      <td>25286</td>\n",
       "      <td>45365.0</td>\n",
       "      <td>54930</td>\n",
       "      <td>0.825869</td>\n",
       "      <td>2.0</td>\n",
       "      <td>3.0</td>\n",
       "      <td>14.6</td>\n",
       "      <td>0.166293</td>\n",
       "      <td>0.147312</td>\n",
       "    </tr>\n",
       "    <tr>\n",
       "      <th>3</th>\n",
       "      <td>Aaron Valdez</td>\n",
       "      <td>25</td>\n",
       "      <td>Male</td>\n",
       "      <td>Hispanic/Latino</td>\n",
       "      <td>March</td>\n",
       "      <td>11</td>\n",
       "      <td>2015</td>\n",
       "      <td>3000 Seminole Ave</td>\n",
       "      <td>South Gate</td>\n",
       "      <td>CA</td>\n",
       "      <td>...</td>\n",
       "      <td>98.8</td>\n",
       "      <td>17194</td>\n",
       "      <td>48295.0</td>\n",
       "      <td>55909</td>\n",
       "      <td>0.863814</td>\n",
       "      <td>3.0</td>\n",
       "      <td>3.0</td>\n",
       "      <td>11.7</td>\n",
       "      <td>0.124827</td>\n",
       "      <td>0.050133</td>\n",
       "    </tr>\n",
       "    <tr>\n",
       "      <th>4</th>\n",
       "      <td>Adam Jovicic</td>\n",
       "      <td>29</td>\n",
       "      <td>Male</td>\n",
       "      <td>White</td>\n",
       "      <td>March</td>\n",
       "      <td>19</td>\n",
       "      <td>2015</td>\n",
       "      <td>364 Hiwood Ave</td>\n",
       "      <td>Munroe Falls</td>\n",
       "      <td>OH</td>\n",
       "      <td>...</td>\n",
       "      <td>1.7</td>\n",
       "      <td>33954</td>\n",
       "      <td>68785.0</td>\n",
       "      <td>49669</td>\n",
       "      <td>1.384868</td>\n",
       "      <td>5.0</td>\n",
       "      <td>4.0</td>\n",
       "      <td>1.9</td>\n",
       "      <td>0.063550</td>\n",
       "      <td>0.403954</td>\n",
       "    </tr>\n",
       "    <tr>\n",
       "      <th>5</th>\n",
       "      <td>Adam Reinhart</td>\n",
       "      <td>29</td>\n",
       "      <td>Male</td>\n",
       "      <td>White</td>\n",
       "      <td>March</td>\n",
       "      <td>7</td>\n",
       "      <td>2015</td>\n",
       "      <td>18th St and Palm Ln</td>\n",
       "      <td>Phoenix</td>\n",
       "      <td>AZ</td>\n",
       "      <td>...</td>\n",
       "      <td>79</td>\n",
       "      <td>15523</td>\n",
       "      <td>20833.0</td>\n",
       "      <td>53596</td>\n",
       "      <td>0.388704</td>\n",
       "      <td>1.0</td>\n",
       "      <td>1.0</td>\n",
       "      <td>58</td>\n",
       "      <td>0.073651</td>\n",
       "      <td>0.102955</td>\n",
       "    </tr>\n",
       "    <tr>\n",
       "      <th>6</th>\n",
       "      <td>Adrian Hernandez</td>\n",
       "      <td>22</td>\n",
       "      <td>Male</td>\n",
       "      <td>Hispanic/Latino</td>\n",
       "      <td>March</td>\n",
       "      <td>27</td>\n",
       "      <td>2015</td>\n",
       "      <td>4000 Union Ave</td>\n",
       "      <td>Bakersfield</td>\n",
       "      <td>CA</td>\n",
       "      <td>...</td>\n",
       "      <td>44.2</td>\n",
       "      <td>25949</td>\n",
       "      <td>58068.0</td>\n",
       "      <td>48552</td>\n",
       "      <td>1.195996</td>\n",
       "      <td>4.0</td>\n",
       "      <td>4.0</td>\n",
       "      <td>17.2</td>\n",
       "      <td>0.131461</td>\n",
       "      <td>0.203801</td>\n",
       "    </tr>\n",
       "    <tr>\n",
       "      <th>7</th>\n",
       "      <td>Adrian Solis</td>\n",
       "      <td>35</td>\n",
       "      <td>Male</td>\n",
       "      <td>Hispanic/Latino</td>\n",
       "      <td>March</td>\n",
       "      <td>26</td>\n",
       "      <td>2015</td>\n",
       "      <td>1500 Bayview Ave</td>\n",
       "      <td>Wilmington</td>\n",
       "      <td>CA</td>\n",
       "      <td>...</td>\n",
       "      <td>84.1</td>\n",
       "      <td>25043</td>\n",
       "      <td>66543.0</td>\n",
       "      <td>55909</td>\n",
       "      <td>1.190202</td>\n",
       "      <td>4.0</td>\n",
       "      <td>4.0</td>\n",
       "      <td>12.2</td>\n",
       "      <td>0.094347</td>\n",
       "      <td>0.090438</td>\n",
       "    </tr>\n",
       "    <tr>\n",
       "      <th>8</th>\n",
       "      <td>Alan Alverson</td>\n",
       "      <td>44</td>\n",
       "      <td>Male</td>\n",
       "      <td>White</td>\n",
       "      <td>January</td>\n",
       "      <td>28</td>\n",
       "      <td>2015</td>\n",
       "      <td>Pickett Runn Rd</td>\n",
       "      <td>Sunset</td>\n",
       "      <td>TX</td>\n",
       "      <td>...</td>\n",
       "      <td>66.3</td>\n",
       "      <td>16778</td>\n",
       "      <td>30391.0</td>\n",
       "      <td>38310</td>\n",
       "      <td>0.793292</td>\n",
       "      <td>2.0</td>\n",
       "      <td>1.0</td>\n",
       "      <td>37.7</td>\n",
       "      <td>0.140833</td>\n",
       "      <td>0.047601</td>\n",
       "    </tr>\n",
       "    <tr>\n",
       "      <th>9</th>\n",
       "      <td>Alan James</td>\n",
       "      <td>31</td>\n",
       "      <td>Male</td>\n",
       "      <td>White</td>\n",
       "      <td>February</td>\n",
       "      <td>7</td>\n",
       "      <td>2015</td>\n",
       "      <td>200 Abbie St SE</td>\n",
       "      <td>Wyoming</td>\n",
       "      <td>MI</td>\n",
       "      <td>...</td>\n",
       "      <td>26.5</td>\n",
       "      <td>22005</td>\n",
       "      <td>44553.0</td>\n",
       "      <td>51667</td>\n",
       "      <td>0.862311</td>\n",
       "      <td>3.0</td>\n",
       "      <td>2.0</td>\n",
       "      <td>18.4</td>\n",
       "      <td>0.174167</td>\n",
       "      <td>0.102692</td>\n",
       "    </tr>\n",
       "  </tbody>\n",
       "</table>\n",
       "<p>10 rows × 34 columns</p>\n",
       "</div>"
      ],
      "text/plain": [
       "                 name age gender    raceethnicity     month  day  year  \\\n",
       "0  A'donte Washington  16   Male            Black  February   23  2015   \n",
       "1      Aaron Rutledge  27   Male            White     April    2  2015   \n",
       "2         Aaron Siler  26   Male            White     March   14  2015   \n",
       "3        Aaron Valdez  25   Male  Hispanic/Latino     March   11  2015   \n",
       "4        Adam Jovicic  29   Male            White     March   19  2015   \n",
       "5       Adam Reinhart  29   Male            White     March    7  2015   \n",
       "6    Adrian Hernandez  22   Male  Hispanic/Latino     March   27  2015   \n",
       "7        Adrian Solis  35   Male  Hispanic/Latino     March   26  2015   \n",
       "8       Alan Alverson  44   Male            White   January   28  2015   \n",
       "9          Alan James  31   Male            White  February    7  2015   \n",
       "\n",
       "            streetaddress          city state    ...     share_hispanic  \\\n",
       "0            Clearview Ln     Millbrook    AL    ...                5.6   \n",
       "1  300 block Iris Park Dr     Pineville    LA    ...                0.5   \n",
       "2    22nd Ave and 56th St       Kenosha    WI    ...               16.8   \n",
       "3       3000 Seminole Ave    South Gate    CA    ...               98.8   \n",
       "4          364 Hiwood Ave  Munroe Falls    OH    ...                1.7   \n",
       "5     18th St and Palm Ln       Phoenix    AZ    ...                 79   \n",
       "6          4000 Union Ave   Bakersfield    CA    ...               44.2   \n",
       "7        1500 Bayview Ave    Wilmington    CA    ...               84.1   \n",
       "8         Pickett Runn Rd        Sunset    TX    ...               66.3   \n",
       "9         200 Abbie St SE       Wyoming    MI    ...               26.5   \n",
       "\n",
       "   p_income  h_income  county_income  comp_income  county_bucket  nat_bucket  \\\n",
       "0     28375   51367.0          54766     0.937936            3.0         3.0   \n",
       "1     14678   27972.0          40930     0.683411            2.0         1.0   \n",
       "2     25286   45365.0          54930     0.825869            2.0         3.0   \n",
       "3     17194   48295.0          55909     0.863814            3.0         3.0   \n",
       "4     33954   68785.0          49669     1.384868            5.0         4.0   \n",
       "5     15523   20833.0          53596     0.388704            1.0         1.0   \n",
       "6     25949   58068.0          48552     1.195996            4.0         4.0   \n",
       "7     25043   66543.0          55909     1.190202            4.0         4.0   \n",
       "8     16778   30391.0          38310     0.793292            2.0         1.0   \n",
       "9     22005   44553.0          51667     0.862311            3.0         2.0   \n",
       "\n",
       "    pov     urate   college  \n",
       "0  14.1  0.097686  0.168510  \n",
       "1  28.8  0.065724  0.111402  \n",
       "2  14.6  0.166293  0.147312  \n",
       "3  11.7  0.124827  0.050133  \n",
       "4   1.9  0.063550  0.403954  \n",
       "5    58  0.073651  0.102955  \n",
       "6  17.2  0.131461  0.203801  \n",
       "7  12.2  0.094347  0.090438  \n",
       "8  37.7  0.140833  0.047601  \n",
       "9  18.4  0.174167  0.102692  \n",
       "\n",
       "[10 rows x 34 columns]"
      ]
     },
     "execution_count": 95,
     "metadata": {},
     "output_type": "execute_result"
    }
   ],
   "source": [
    "police_killings.head(10)"
   ]
  },
  {
   "cell_type": "code",
   "execution_count": 4,
   "metadata": {},
   "outputs": [
    {
     "name": "stdout",
     "output_type": "stream",
     "text": [
      "Index([u'name', u'age', u'gender', u'raceethnicity', u'month', u'day', u'year',\n",
      "       u'streetaddress', u'city', u'state', u'latitude', u'longitude',\n",
      "       u'state_fp', u'county_fp', u'tract_ce', u'geo_id', u'county_id',\n",
      "       u'namelsad', u'lawenforcementagency', u'cause', u'armed', u'pop',\n",
      "       u'share_white', u'share_black', u'share_hispanic', u'p_income',\n",
      "       u'h_income', u'county_income', u'comp_income', u'county_bucket',\n",
      "       u'nat_bucket', u'pov', u'urate', u'college'],\n",
      "      dtype='object')\n"
     ]
    }
   ],
   "source": [
    "print(police_killings.columns)"
   ]
  },
  {
   "cell_type": "markdown",
   "metadata": {},
   "source": [
    "# Shootings by Race :"
   ]
  },
  {
   "cell_type": "code",
   "execution_count": 5,
   "metadata": {
    "collapsed": true
   },
   "outputs": [],
   "source": [
    "race_ethnicity_counts = police_killings[\"raceethnicity\"].value_counts()"
   ]
  },
  {
   "cell_type": "code",
   "execution_count": 7,
   "metadata": {},
   "outputs": [
    {
     "name": "stdout",
     "output_type": "stream",
     "text": [
      "White                     236\n",
      "Black                     135\n",
      "Hispanic/Latino            67\n",
      "Unknown                    15\n",
      "Asian/Pacific Islander     10\n",
      "Native American             4\n",
      "Name: raceethnicity, dtype: int64\n"
     ]
    }
   ],
   "source": [
    "print(race_ethnicity_counts)"
   ]
  },
  {
   "cell_type": "code",
   "execution_count": 12,
   "metadata": {},
   "outputs": [
    {
     "data": {
      "text/plain": [
       "([<matplotlib.axis.XTick at 0xa6989e8>,\n",
       "  <matplotlib.axis.XTick at 0xa7bfa20>,\n",
       "  <matplotlib.axis.XTick at 0xa88edd8>,\n",
       "  <matplotlib.axis.XTick at 0xa8bb6d8>,\n",
       "  <matplotlib.axis.XTick at 0xa8bbd68>,\n",
       "  <matplotlib.axis.XTick at 0xa8c8438>],\n",
       " <a list of 6 Text xticklabel objects>)"
      ]
     },
     "execution_count": 12,
     "metadata": {},
     "output_type": "execute_result"
    },
    {
     "data": {
      "image/png": "[encoded data removed]",
      "text/plain": [
       "<matplotlib.figure.Figure at 0xa6a40b8>"
      ]
     },
     "metadata": {},
     "output_type": "display_data"
    }
   ],
   "source": [
    "plt.bar(range(6),race_ethnicity_counts)\n",
    "index = race_ethnicity_counts.index\n",
    "plt.xticks(range(6),index,rotation = \"vertical\")"
   ]
  },
  {
   "cell_type": "markdown",
   "metadata": {},
   "source": [
    "Note : I expected black people to be shot more, but it seems like white people were shot way more than normal. May be they were armed? I should check that. But it's also possible that compared to white population itself white people were shot less and black people were shot more compared to their population in US."
   ]
  },
  {
   "cell_type": "code",
   "execution_count": 14,
   "metadata": {},
   "outputs": [
    {
     "data": {
      "text/plain": [
       "White                     50.535332\n",
       "Black                     28.907923\n",
       "Hispanic/Latino           14.346895\n",
       "Unknown                    3.211991\n",
       "Asian/Pacific Islander     2.141328\n",
       "Native American            0.856531\n",
       "Name: raceethnicity, dtype: float64"
      ]
     },
     "execution_count": 14,
     "metadata": {},
     "output_type": "execute_result"
    }
   ],
   "source": [
    "(race_ethnicity_counts/sum(race_ethnicity_counts))*100"
   ]
  },
  {
   "cell_type": "markdown",
   "metadata": {
    "collapsed": true
   },
   "source": [
    "According to <a href = \"https://en.wikipedia.org/wiki/Demography_of_the_United_States#Race_and_ethnicity\">Wikipedia demographic information on US racial breakdown </a> total proportion of white american's is around 72.4% in US, whereas black American proportion is around 12.6%, we see in our police killings 28% of black American's get killed by police. So it does seem black population is overrepresented among police killings. Asian American, 4.8% in overall population is definitely underrepresented, not to mention in this dataset Asian/Pacific Islander demographic seems to be considered together."
   ]
  },
  {
   "cell_type": "code",
   "execution_count": 23,
   "metadata": {},
   "outputs": [
    {
     "data": {
      "text/plain": [
       "Index([u'22969', u'16558', u'15373', u'14256', u'-', u'19921', u'37476',\n",
       "       u'21130', u'28125', u'16415',\n",
       "       ...\n",
       "       u'21509', u'23974', u'27535', u'22080', u'22085', u'21474', u'25755',\n",
       "       u'40021', u'24858', u'20075'],\n",
       "      dtype='object', length=452)"
      ]
     },
     "execution_count": 23,
     "metadata": {},
     "output_type": "execute_result"
    }
   ],
   "source": [
    "# Check if police killings p_income has null values or not. Looks like there's no null value but the data type is string.\n",
    "\n",
    "police_killings[\"p_income\"].dtype\n",
    "police_killings[\"p_income\"].isnull().sum()\n",
    "police_killings[\"p_income\"].value_counts().index"
   ]
  },
  {
   "cell_type": "markdown",
   "metadata": {},
   "source": [
    "# Breakdown by income:"
   ]
  },
  {
   "cell_type": "code",
   "execution_count": 27,
   "metadata": {},
   "outputs": [
    {
     "data": {
      "text/plain": [
       "(array([   4.,   21.,   76.,  103.,   94.,   58.,   44.,   29.,   16.,\n",
       "          10.,    3.,    3.,    2.,    0.,    1.,    0.,    0.,    0.,\n",
       "           0.,    1.]),\n",
       " array([  5457. ,   9485.3,  13513.6,  17541.9,  21570.2,  25598.5,\n",
       "         29626.8,  33655.1,  37683.4,  41711.7,  45740. ,  49768.3,\n",
       "         53796.6,  57824.9,  61853.2,  65881.5,  69909.8,  73938.1,\n",
       "         77966.4,  81994.7,  86023. ]),\n",
       " <a list of 20 Patch objects>)"
      ]
     },
     "execution_count": 27,
     "metadata": {},
     "output_type": "execute_result"
    },
    {
     "data": {
      "image/png": "[encoded data removed]",
      "text/plain": [
       "<matplotlib.figure.Figure at 0xb2ce7b8>"
      ]
     },
     "metadata": {},
     "output_type": "display_data"
    }
   ],
   "source": [
    "plt.hist(police_killings[\"p_income\"][police_killings[\"p_income\"]!=\"-\"].astype(float),bins = 20)"
   ]
  },
  {
   "cell_type": "markdown",
   "metadata": {},
   "source": [
    "Looks like most police killings happen in neighborhoods where the median income is lower than 50000-60000. But it's natural rich people won't get gunned by police. "
   ]
  },
  {
   "cell_type": "code",
   "execution_count": 29,
   "metadata": {},
   "outputs": [
    {
     "data": {
      "text/plain": [
       "22348.0"
      ]
     },
     "execution_count": 29,
     "metadata": {},
     "output_type": "execute_result"
    }
   ],
   "source": [
    "police_killings[\"p_income\"][police_killings[\"p_income\"]!=\"-\"].astype(float).median()\n"
   ]
  },
  {
   "cell_type": "markdown",
   "metadata": {},
   "source": [
    "According to personal income statistics in Wikipedia (See : <a href = \"https://en.wikipedia.org/wiki/Personal_income_in_the_United_States\"> here </a>) median income for male, age 25+ who are employed full time is around 25000+ and for unemployed people it's around 20000+,(for only people who have some college) so I guess its kind of similar in a sense"
   ]
  },
  {
   "cell_type": "markdown",
   "metadata": {},
   "source": [
    "# Male vs female killings"
   ]
  },
  {
   "cell_type": "code",
   "execution_count": 31,
   "metadata": {},
   "outputs": [
    {
     "data": {
      "text/plain": [
       "Male      445\n",
       "Female     22\n",
       "Name: gender, dtype: int64"
      ]
     },
     "execution_count": 31,
     "metadata": {},
     "output_type": "execute_result"
    }
   ],
   "source": [
    "\n",
    "# Checking the male female breakdown\n",
    "police_killings[\"gender\"].value_counts()\n"
   ]
  },
  {
   "cell_type": "code",
   "execution_count": 48,
   "metadata": {},
   "outputs": [
    {
     "data": {
      "text/plain": [
       "<matplotlib.text.Text at 0xb84b978>"
      ]
     },
     "execution_count": 48,
     "metadata": {},
     "output_type": "execute_result"
    },
    {
     "data": {
      "image/png": "[encoded data removed]",
      "text/plain": [
       "<matplotlib.figure.Figure at 0xb84be80>"
      ]
     },
     "metadata": {},
     "output_type": "display_data"
    }
   ],
   "source": [
    "plt.pie(police_killings[\"gender\"].value_counts().values,labels = police_killings[\"gender\"].value_counts().index, colors = [\"skyblue\",\"darkblue\"])\n",
    "plt.axis(\"equal\")\n",
    "plt.xlabel(\"Breakdown by gender\")"
   ]
  },
  {
   "cell_type": "markdown",
   "metadata": {},
   "source": [
    "# Age wise shootings :"
   ]
  },
  {
   "cell_type": "code",
   "execution_count": 40,
   "metadata": {},
   "outputs": [
    {
     "data": {
      "text/plain": [
       "<matplotlib.text.Text at 0xb5fec50>"
      ]
     },
     "execution_count": 40,
     "metadata": {},
     "output_type": "execute_result"
    },
    {
     "data": {
      "image/png": "[encoded data removed]",
      "text/plain": [
       "<matplotlib.figure.Figure at 0xb77ef60>"
      ]
     },
     "metadata": {},
     "output_type": "display_data"
    }
   ],
   "source": [
    "plt.hist(police_killings[\"age\"][police_killings[\"age\"]!= \"Unknown\"].astype(float))\n",
    "plt.xlabel(\"Breakdown by age\")"
   ]
  },
  {
   "cell_type": "markdown",
   "metadata": {},
   "source": [
    "Most people who were killed seemed to be between 15-35, older people have less chance of being shot."
   ]
  },
  {
   "cell_type": "markdown",
   "metadata": {},
   "source": [
    "# Killings by state"
   ]
  },
  {
   "cell_type": "markdown",
   "metadata": {},
   "source": [
    "To get the population adjusted rate of killing per state, we get the population data from US Cencus first. Police killings data set has given the numbers on how many people were killed per state, but states with larger population will have more deaths, so it's important to get the population data at hand too."
   ]
  },
  {
   "cell_type": "code",
   "execution_count": 46,
   "metadata": {},
   "outputs": [],
   "source": [
    "state_pop = pd.read_csv(\"state_population.csv\")\n"
   ]
  },
  {
   "cell_type": "code",
   "execution_count": 49,
   "metadata": {
    "collapsed": true
   },
   "outputs": [],
   "source": [
    "counts = police_killings[\"state_fp\"].value_counts()"
   ]
  },
  {
   "cell_type": "code",
   "execution_count": 52,
   "metadata": {},
   "outputs": [
    {
     "data": {
      "text/html": [
       "<div>\n",
       "<table border=\"1\" class=\"dataframe\">\n",
       "  <thead>\n",
       "    <tr style=\"text-align: right;\">\n",
       "      <th></th>\n",
       "      <th>SUMLEV</th>\n",
       "      <th>REGION</th>\n",
       "      <th>DIVISION</th>\n",
       "      <th>STATE</th>\n",
       "      <th>NAME</th>\n",
       "      <th>POPESTIMATE2015</th>\n",
       "      <th>POPEST18PLUS2015</th>\n",
       "      <th>PCNT_POPEST18PLUS</th>\n",
       "    </tr>\n",
       "  </thead>\n",
       "  <tbody>\n",
       "    <tr>\n",
       "      <th>0</th>\n",
       "      <td>10</td>\n",
       "      <td>0</td>\n",
       "      <td>0</td>\n",
       "      <td>0</td>\n",
       "      <td>United States</td>\n",
       "      <td>321418820</td>\n",
       "      <td>247773709</td>\n",
       "      <td>77.1</td>\n",
       "    </tr>\n",
       "    <tr>\n",
       "      <th>1</th>\n",
       "      <td>40</td>\n",
       "      <td>3</td>\n",
       "      <td>6</td>\n",
       "      <td>1</td>\n",
       "      <td>Alabama</td>\n",
       "      <td>4858979</td>\n",
       "      <td>3755483</td>\n",
       "      <td>77.3</td>\n",
       "    </tr>\n",
       "    <tr>\n",
       "      <th>2</th>\n",
       "      <td>40</td>\n",
       "      <td>4</td>\n",
       "      <td>9</td>\n",
       "      <td>2</td>\n",
       "      <td>Alaska</td>\n",
       "      <td>738432</td>\n",
       "      <td>552166</td>\n",
       "      <td>74.8</td>\n",
       "    </tr>\n",
       "    <tr>\n",
       "      <th>3</th>\n",
       "      <td>40</td>\n",
       "      <td>4</td>\n",
       "      <td>8</td>\n",
       "      <td>4</td>\n",
       "      <td>Arizona</td>\n",
       "      <td>6828065</td>\n",
       "      <td>5205215</td>\n",
       "      <td>76.2</td>\n",
       "    </tr>\n",
       "    <tr>\n",
       "      <th>4</th>\n",
       "      <td>40</td>\n",
       "      <td>3</td>\n",
       "      <td>7</td>\n",
       "      <td>5</td>\n",
       "      <td>Arkansas</td>\n",
       "      <td>2978204</td>\n",
       "      <td>2272904</td>\n",
       "      <td>76.3</td>\n",
       "    </tr>\n",
       "  </tbody>\n",
       "</table>\n",
       "</div>"
      ],
      "text/plain": [
       "   SUMLEV REGION DIVISION  STATE           NAME  POPESTIMATE2015  \\\n",
       "0      10      0        0      0  United States        321418820   \n",
       "1      40      3        6      1        Alabama          4858979   \n",
       "2      40      4        9      2         Alaska           738432   \n",
       "3      40      4        8      4        Arizona          6828065   \n",
       "4      40      3        7      5       Arkansas          2978204   \n",
       "\n",
       "   POPEST18PLUS2015  PCNT_POPEST18PLUS  \n",
       "0         247773709               77.1  \n",
       "1           3755483               77.3  \n",
       "2            552166               74.8  \n",
       "3           5205215               76.2  \n",
       "4           2272904               76.3  "
      ]
     },
     "execution_count": 52,
     "metadata": {},
     "output_type": "execute_result"
    }
   ],
   "source": [
    "state_pop.head(5)"
   ]
  },
  {
   "cell_type": "code",
   "execution_count": 68,
   "metadata": {},
   "outputs": [],
   "source": [
    "# Create a new dataframe called states with one column STATE that holds the index of counts, and another with the shooting values\n",
    "states = pd.DataFrame({\"STATE\":counts.index, \"shootings\":counts})"
   ]
  },
  {
   "cell_type": "code",
   "execution_count": 69,
   "metadata": {},
   "outputs": [
    {
     "data": {
      "text/html": [
       "<div>\n",
       "<table border=\"1\" class=\"dataframe\">\n",
       "  <thead>\n",
       "    <tr style=\"text-align: right;\">\n",
       "      <th></th>\n",
       "      <th>STATE</th>\n",
       "      <th>shootings</th>\n",
       "    </tr>\n",
       "  </thead>\n",
       "  <tbody>\n",
       "    <tr>\n",
       "      <th>6</th>\n",
       "      <td>6</td>\n",
       "      <td>74</td>\n",
       "    </tr>\n",
       "    <tr>\n",
       "      <th>48</th>\n",
       "      <td>48</td>\n",
       "      <td>47</td>\n",
       "    </tr>\n",
       "    <tr>\n",
       "      <th>12</th>\n",
       "      <td>12</td>\n",
       "      <td>29</td>\n",
       "    </tr>\n",
       "    <tr>\n",
       "      <th>4</th>\n",
       "      <td>4</td>\n",
       "      <td>25</td>\n",
       "    </tr>\n",
       "    <tr>\n",
       "      <th>40</th>\n",
       "      <td>40</td>\n",
       "      <td>22</td>\n",
       "    </tr>\n",
       "  </tbody>\n",
       "</table>\n",
       "</div>"
      ],
      "text/plain": [
       "    STATE  shootings\n",
       "6       6         74\n",
       "48     48         47\n",
       "12     12         29\n",
       "4       4         25\n",
       "40     40         22"
      ]
     },
     "execution_count": 69,
     "metadata": {},
     "output_type": "execute_result"
    }
   ],
   "source": [
    "\n",
    "states.head(5)"
   ]
  },
  {
   "cell_type": "code",
   "execution_count": 70,
   "metadata": {},
   "outputs": [],
   "source": [
    "#State_pop(Population data from CENSUS) and states both share the column STATE, so after merging only the values available\n",
    "# in both datasets remain\n",
    "states = states.merge(state_pop,on = \"STATE\")"
   ]
  },
  {
   "cell_type": "code",
   "execution_count": 71,
   "metadata": {},
   "outputs": [
    {
     "data": {
      "text/html": [
       "<div>\n",
       "<table border=\"1\" class=\"dataframe\">\n",
       "  <thead>\n",
       "    <tr style=\"text-align: right;\">\n",
       "      <th></th>\n",
       "      <th>STATE</th>\n",
       "      <th>shootings</th>\n",
       "      <th>SUMLEV</th>\n",
       "      <th>REGION</th>\n",
       "      <th>DIVISION</th>\n",
       "      <th>NAME</th>\n",
       "      <th>POPESTIMATE2015</th>\n",
       "      <th>POPEST18PLUS2015</th>\n",
       "      <th>PCNT_POPEST18PLUS</th>\n",
       "    </tr>\n",
       "  </thead>\n",
       "  <tbody>\n",
       "    <tr>\n",
       "      <th>0</th>\n",
       "      <td>6</td>\n",
       "      <td>74</td>\n",
       "      <td>40</td>\n",
       "      <td>4</td>\n",
       "      <td>9</td>\n",
       "      <td>California</td>\n",
       "      <td>39144818</td>\n",
       "      <td>30023902</td>\n",
       "      <td>76.7</td>\n",
       "    </tr>\n",
       "    <tr>\n",
       "      <th>1</th>\n",
       "      <td>48</td>\n",
       "      <td>47</td>\n",
       "      <td>40</td>\n",
       "      <td>3</td>\n",
       "      <td>7</td>\n",
       "      <td>Texas</td>\n",
       "      <td>27469114</td>\n",
       "      <td>20257343</td>\n",
       "      <td>73.7</td>\n",
       "    </tr>\n",
       "    <tr>\n",
       "      <th>2</th>\n",
       "      <td>12</td>\n",
       "      <td>29</td>\n",
       "      <td>40</td>\n",
       "      <td>3</td>\n",
       "      <td>5</td>\n",
       "      <td>Florida</td>\n",
       "      <td>20271272</td>\n",
       "      <td>16166143</td>\n",
       "      <td>79.7</td>\n",
       "    </tr>\n",
       "    <tr>\n",
       "      <th>3</th>\n",
       "      <td>4</td>\n",
       "      <td>25</td>\n",
       "      <td>40</td>\n",
       "      <td>4</td>\n",
       "      <td>8</td>\n",
       "      <td>Arizona</td>\n",
       "      <td>6828065</td>\n",
       "      <td>5205215</td>\n",
       "      <td>76.2</td>\n",
       "    </tr>\n",
       "    <tr>\n",
       "      <th>4</th>\n",
       "      <td>40</td>\n",
       "      <td>22</td>\n",
       "      <td>40</td>\n",
       "      <td>3</td>\n",
       "      <td>7</td>\n",
       "      <td>Oklahoma</td>\n",
       "      <td>3911338</td>\n",
       "      <td>2950017</td>\n",
       "      <td>75.4</td>\n",
       "    </tr>\n",
       "  </tbody>\n",
       "</table>\n",
       "</div>"
      ],
      "text/plain": [
       "   STATE  shootings  SUMLEV REGION DIVISION        NAME  POPESTIMATE2015  \\\n",
       "0      6         74      40      4        9  California         39144818   \n",
       "1     48         47      40      3        7       Texas         27469114   \n",
       "2     12         29      40      3        5     Florida         20271272   \n",
       "3      4         25      40      4        8     Arizona          6828065   \n",
       "4     40         22      40      3        7    Oklahoma          3911338   \n",
       "\n",
       "   POPEST18PLUS2015  PCNT_POPEST18PLUS  \n",
       "0          30023902               76.7  \n",
       "1          20257343               73.7  \n",
       "2          16166143               79.7  \n",
       "3           5205215               76.2  \n",
       "4           2950017               75.4  "
      ]
     },
     "execution_count": 71,
     "metadata": {},
     "output_type": "execute_result"
    }
   ],
   "source": [
    "states.head(5)"
   ]
  },
  {
   "cell_type": "code",
   "execution_count": 72,
   "metadata": {
    "collapsed": true
   },
   "outputs": [],
   "source": [
    "states[\"pop_millions\"] = states[\"POPESTIMATE2015\"]/1000000"
   ]
  },
  {
   "cell_type": "code",
   "execution_count": 73,
   "metadata": {
    "collapsed": true
   },
   "outputs": [],
   "source": [
    "states[\"rate\"] = states[\"shootings\"]/states[\"pop_millions\"]"
   ]
  },
  {
   "cell_type": "code",
   "execution_count": 76,
   "metadata": {},
   "outputs": [
    {
     "data": {
      "text/html": [
       "<div>\n",
       "<table border=\"1\" class=\"dataframe\">\n",
       "  <thead>\n",
       "    <tr style=\"text-align: right;\">\n",
       "      <th></th>\n",
       "      <th>STATE</th>\n",
       "      <th>shootings</th>\n",
       "      <th>SUMLEV</th>\n",
       "      <th>REGION</th>\n",
       "      <th>DIVISION</th>\n",
       "      <th>NAME</th>\n",
       "      <th>POPESTIMATE2015</th>\n",
       "      <th>POPEST18PLUS2015</th>\n",
       "      <th>PCNT_POPEST18PLUS</th>\n",
       "      <th>pop_millions</th>\n",
       "      <th>rate</th>\n",
       "    </tr>\n",
       "  </thead>\n",
       "  <tbody>\n",
       "    <tr>\n",
       "      <th>43</th>\n",
       "      <td>9</td>\n",
       "      <td>1</td>\n",
       "      <td>40</td>\n",
       "      <td>1</td>\n",
       "      <td>1</td>\n",
       "      <td>Connecticut</td>\n",
       "      <td>3590886</td>\n",
       "      <td>2826827</td>\n",
       "      <td>78.7</td>\n",
       "      <td>3.590886</td>\n",
       "      <td>0.278483</td>\n",
       "    </tr>\n",
       "    <tr>\n",
       "      <th>22</th>\n",
       "      <td>42</td>\n",
       "      <td>7</td>\n",
       "      <td>40</td>\n",
       "      <td>1</td>\n",
       "      <td>2</td>\n",
       "      <td>Pennsylvania</td>\n",
       "      <td>12802503</td>\n",
       "      <td>10112229</td>\n",
       "      <td>79.0</td>\n",
       "      <td>12.802503</td>\n",
       "      <td>0.546768</td>\n",
       "    </tr>\n",
       "    <tr>\n",
       "      <th>38</th>\n",
       "      <td>19</td>\n",
       "      <td>2</td>\n",
       "      <td>40</td>\n",
       "      <td>2</td>\n",
       "      <td>4</td>\n",
       "      <td>Iowa</td>\n",
       "      <td>3123899</td>\n",
       "      <td>2395103</td>\n",
       "      <td>76.7</td>\n",
       "      <td>3.123899</td>\n",
       "      <td>0.640226</td>\n",
       "    </tr>\n",
       "    <tr>\n",
       "      <th>6</th>\n",
       "      <td>36</td>\n",
       "      <td>13</td>\n",
       "      <td>40</td>\n",
       "      <td>1</td>\n",
       "      <td>2</td>\n",
       "      <td>New York</td>\n",
       "      <td>19795791</td>\n",
       "      <td>15584974</td>\n",
       "      <td>78.7</td>\n",
       "      <td>19.795791</td>\n",
       "      <td>0.656705</td>\n",
       "    </tr>\n",
       "    <tr>\n",
       "      <th>29</th>\n",
       "      <td>25</td>\n",
       "      <td>5</td>\n",
       "      <td>40</td>\n",
       "      <td>1</td>\n",
       "      <td>1</td>\n",
       "      <td>Massachusetts</td>\n",
       "      <td>6794422</td>\n",
       "      <td>5407335</td>\n",
       "      <td>79.6</td>\n",
       "      <td>6.794422</td>\n",
       "      <td>0.735898</td>\n",
       "    </tr>\n",
       "    <tr>\n",
       "      <th>42</th>\n",
       "      <td>33</td>\n",
       "      <td>1</td>\n",
       "      <td>40</td>\n",
       "      <td>1</td>\n",
       "      <td>1</td>\n",
       "      <td>New Hampshire</td>\n",
       "      <td>1330608</td>\n",
       "      <td>1066610</td>\n",
       "      <td>80.2</td>\n",
       "      <td>1.330608</td>\n",
       "      <td>0.751536</td>\n",
       "    </tr>\n",
       "    <tr>\n",
       "      <th>45</th>\n",
       "      <td>23</td>\n",
       "      <td>1</td>\n",
       "      <td>40</td>\n",
       "      <td>1</td>\n",
       "      <td>1</td>\n",
       "      <td>Maine</td>\n",
       "      <td>1329328</td>\n",
       "      <td>1072948</td>\n",
       "      <td>80.7</td>\n",
       "      <td>1.329328</td>\n",
       "      <td>0.752260</td>\n",
       "    </tr>\n",
       "    <tr>\n",
       "      <th>11</th>\n",
       "      <td>17</td>\n",
       "      <td>11</td>\n",
       "      <td>40</td>\n",
       "      <td>2</td>\n",
       "      <td>3</td>\n",
       "      <td>Illinois</td>\n",
       "      <td>12859995</td>\n",
       "      <td>9901322</td>\n",
       "      <td>77.0</td>\n",
       "      <td>12.859995</td>\n",
       "      <td>0.855366</td>\n",
       "    </tr>\n",
       "    <tr>\n",
       "      <th>12</th>\n",
       "      <td>39</td>\n",
       "      <td>10</td>\n",
       "      <td>40</td>\n",
       "      <td>2</td>\n",
       "      <td>3</td>\n",
       "      <td>Ohio</td>\n",
       "      <td>11613423</td>\n",
       "      <td>8984946</td>\n",
       "      <td>77.4</td>\n",
       "      <td>11.613423</td>\n",
       "      <td>0.861073</td>\n",
       "    </tr>\n",
       "    <tr>\n",
       "      <th>31</th>\n",
       "      <td>55</td>\n",
       "      <td>5</td>\n",
       "      <td>40</td>\n",
       "      <td>2</td>\n",
       "      <td>3</td>\n",
       "      <td>Wisconsin</td>\n",
       "      <td>5771337</td>\n",
       "      <td>4476711</td>\n",
       "      <td>77.6</td>\n",
       "      <td>5.771337</td>\n",
       "      <td>0.866350</td>\n",
       "    </tr>\n",
       "  </tbody>\n",
       "</table>\n",
       "</div>"
      ],
      "text/plain": [
       "    STATE  shootings  SUMLEV REGION DIVISION           NAME  POPESTIMATE2015  \\\n",
       "43      9          1      40      1        1    Connecticut          3590886   \n",
       "22     42          7      40      1        2   Pennsylvania         12802503   \n",
       "38     19          2      40      2        4           Iowa          3123899   \n",
       "6      36         13      40      1        2       New York         19795791   \n",
       "29     25          5      40      1        1  Massachusetts          6794422   \n",
       "42     33          1      40      1        1  New Hampshire          1330608   \n",
       "45     23          1      40      1        1          Maine          1329328   \n",
       "11     17         11      40      2        3       Illinois         12859995   \n",
       "12     39         10      40      2        3           Ohio         11613423   \n",
       "31     55          5      40      2        3      Wisconsin          5771337   \n",
       "\n",
       "    POPEST18PLUS2015  PCNT_POPEST18PLUS  pop_millions      rate  \n",
       "43           2826827               78.7      3.590886  0.278483  \n",
       "22          10112229               79.0     12.802503  0.546768  \n",
       "38           2395103               76.7      3.123899  0.640226  \n",
       "6           15584974               78.7     19.795791  0.656705  \n",
       "29           5407335               79.6      6.794422  0.735898  \n",
       "42           1066610               80.2      1.330608  0.751536  \n",
       "45           1072948               80.7      1.329328  0.752260  \n",
       "11           9901322               77.0     12.859995  0.855366  \n",
       "12           8984946               77.4     11.613423  0.861073  \n",
       "31           4476711               77.6      5.771337  0.866350  "
      ]
     },
     "execution_count": 76,
     "metadata": {},
     "output_type": "execute_result"
    }
   ],
   "source": [
    "# Sort the states from least police killings to most\n",
    "states.sort_values(\"rate\",ascending = True).head(10)"
   ]
  },
  {
   "cell_type": "code",
   "execution_count": 78,
   "metadata": {},
   "outputs": [
    {
     "data": {
      "text/html": [
       "<div>\n",
       "<table border=\"1\" class=\"dataframe\">\n",
       "  <thead>\n",
       "    <tr style=\"text-align: right;\">\n",
       "      <th></th>\n",
       "      <th>STATE</th>\n",
       "      <th>shootings</th>\n",
       "      <th>SUMLEV</th>\n",
       "      <th>REGION</th>\n",
       "      <th>DIVISION</th>\n",
       "      <th>NAME</th>\n",
       "      <th>POPESTIMATE2015</th>\n",
       "      <th>POPEST18PLUS2015</th>\n",
       "      <th>PCNT_POPEST18PLUS</th>\n",
       "      <th>pop_millions</th>\n",
       "      <th>rate</th>\n",
       "    </tr>\n",
       "  </thead>\n",
       "  <tbody>\n",
       "    <tr>\n",
       "      <th>4</th>\n",
       "      <td>40</td>\n",
       "      <td>22</td>\n",
       "      <td>40</td>\n",
       "      <td>3</td>\n",
       "      <td>7</td>\n",
       "      <td>Oklahoma</td>\n",
       "      <td>3911338</td>\n",
       "      <td>2950017</td>\n",
       "      <td>75.4</td>\n",
       "      <td>3.911338</td>\n",
       "      <td>5.624674</td>\n",
       "    </tr>\n",
       "    <tr>\n",
       "      <th>3</th>\n",
       "      <td>4</td>\n",
       "      <td>25</td>\n",
       "      <td>40</td>\n",
       "      <td>4</td>\n",
       "      <td>8</td>\n",
       "      <td>Arizona</td>\n",
       "      <td>6828065</td>\n",
       "      <td>5205215</td>\n",
       "      <td>76.2</td>\n",
       "      <td>6.828065</td>\n",
       "      <td>3.661359</td>\n",
       "    </tr>\n",
       "    <tr>\n",
       "      <th>27</th>\n",
       "      <td>31</td>\n",
       "      <td>6</td>\n",
       "      <td>40</td>\n",
       "      <td>2</td>\n",
       "      <td>4</td>\n",
       "      <td>Nebraska</td>\n",
       "      <td>1896190</td>\n",
       "      <td>1425853</td>\n",
       "      <td>75.2</td>\n",
       "      <td>1.896190</td>\n",
       "      <td>3.164240</td>\n",
       "    </tr>\n",
       "    <tr>\n",
       "      <th>34</th>\n",
       "      <td>15</td>\n",
       "      <td>4</td>\n",
       "      <td>40</td>\n",
       "      <td>4</td>\n",
       "      <td>9</td>\n",
       "      <td>Hawaii</td>\n",
       "      <td>1431603</td>\n",
       "      <td>1120770</td>\n",
       "      <td>78.3</td>\n",
       "      <td>1.431603</td>\n",
       "      <td>2.794071</td>\n",
       "    </tr>\n",
       "    <tr>\n",
       "      <th>39</th>\n",
       "      <td>2</td>\n",
       "      <td>2</td>\n",
       "      <td>40</td>\n",
       "      <td>4</td>\n",
       "      <td>9</td>\n",
       "      <td>Alaska</td>\n",
       "      <td>738432</td>\n",
       "      <td>552166</td>\n",
       "      <td>74.8</td>\n",
       "      <td>0.738432</td>\n",
       "      <td>2.708442</td>\n",
       "    </tr>\n",
       "    <tr>\n",
       "      <th>33</th>\n",
       "      <td>16</td>\n",
       "      <td>4</td>\n",
       "      <td>40</td>\n",
       "      <td>4</td>\n",
       "      <td>8</td>\n",
       "      <td>Idaho</td>\n",
       "      <td>1654930</td>\n",
       "      <td>1222093</td>\n",
       "      <td>73.8</td>\n",
       "      <td>1.654930</td>\n",
       "      <td>2.417021</td>\n",
       "    </tr>\n",
       "    <tr>\n",
       "      <th>32</th>\n",
       "      <td>35</td>\n",
       "      <td>5</td>\n",
       "      <td>40</td>\n",
       "      <td>4</td>\n",
       "      <td>8</td>\n",
       "      <td>New Mexico</td>\n",
       "      <td>2085109</td>\n",
       "      <td>1588201</td>\n",
       "      <td>76.2</td>\n",
       "      <td>2.085109</td>\n",
       "      <td>2.397956</td>\n",
       "    </tr>\n",
       "    <tr>\n",
       "      <th>10</th>\n",
       "      <td>22</td>\n",
       "      <td>11</td>\n",
       "      <td>40</td>\n",
       "      <td>3</td>\n",
       "      <td>7</td>\n",
       "      <td>Louisiana</td>\n",
       "      <td>4670724</td>\n",
       "      <td>3555911</td>\n",
       "      <td>76.1</td>\n",
       "      <td>4.670724</td>\n",
       "      <td>2.355095</td>\n",
       "    </tr>\n",
       "    <tr>\n",
       "      <th>7</th>\n",
       "      <td>8</td>\n",
       "      <td>12</td>\n",
       "      <td>40</td>\n",
       "      <td>4</td>\n",
       "      <td>8</td>\n",
       "      <td>Colorado</td>\n",
       "      <td>5456574</td>\n",
       "      <td>4199509</td>\n",
       "      <td>77.0</td>\n",
       "      <td>5.456574</td>\n",
       "      <td>2.199182</td>\n",
       "    </tr>\n",
       "    <tr>\n",
       "      <th>41</th>\n",
       "      <td>10</td>\n",
       "      <td>2</td>\n",
       "      <td>40</td>\n",
       "      <td>3</td>\n",
       "      <td>5</td>\n",
       "      <td>Delaware</td>\n",
       "      <td>945934</td>\n",
       "      <td>741548</td>\n",
       "      <td>78.4</td>\n",
       "      <td>0.945934</td>\n",
       "      <td>2.114312</td>\n",
       "    </tr>\n",
       "  </tbody>\n",
       "</table>\n",
       "</div>"
      ],
      "text/plain": [
       "    STATE  shootings  SUMLEV REGION DIVISION        NAME  POPESTIMATE2015  \\\n",
       "4      40         22      40      3        7    Oklahoma          3911338   \n",
       "3       4         25      40      4        8     Arizona          6828065   \n",
       "27     31          6      40      2        4    Nebraska          1896190   \n",
       "34     15          4      40      4        9      Hawaii          1431603   \n",
       "39      2          2      40      4        9      Alaska           738432   \n",
       "33     16          4      40      4        8       Idaho          1654930   \n",
       "32     35          5      40      4        8  New Mexico          2085109   \n",
       "10     22         11      40      3        7   Louisiana          4670724   \n",
       "7       8         12      40      4        8    Colorado          5456574   \n",
       "41     10          2      40      3        5    Delaware           945934   \n",
       "\n",
       "    POPEST18PLUS2015  PCNT_POPEST18PLUS  pop_millions      rate  \n",
       "4            2950017               75.4      3.911338  5.624674  \n",
       "3            5205215               76.2      6.828065  3.661359  \n",
       "27           1425853               75.2      1.896190  3.164240  \n",
       "34           1120770               78.3      1.431603  2.794071  \n",
       "39            552166               74.8      0.738432  2.708442  \n",
       "33           1222093               73.8      1.654930  2.417021  \n",
       "32           1588201               76.2      2.085109  2.397956  \n",
       "10           3555911               76.1      4.670724  2.355095  \n",
       "7            4199509               77.0      5.456574  2.199182  \n",
       "41            741548               78.4      0.945934  2.114312  "
      ]
     },
     "execution_count": 78,
     "metadata": {},
     "output_type": "execute_result"
    }
   ],
   "source": [
    "# Sort the states from highest police killings to lowest\n",
    "states.sort_values(\"rate\",ascending = False).head(10)"
   ]
  },
  {
   "cell_type": "code",
   "execution_count": 109,
   "metadata": {},
   "outputs": [
    {
     "data": {
      "text/plain": [
       "([<matplotlib.axis.XTick at 0xe013438>,\n",
       "  <matplotlib.axis.XTick at 0xe51c0b8>,\n",
       "  <matplotlib.axis.XTick at 0xe56d4e0>,\n",
       "  <matplotlib.axis.XTick at 0xe785cc0>,\n",
       "  <matplotlib.axis.XTick at 0xe792390>,\n",
       "  <matplotlib.axis.XTick at 0xe792a20>,\n",
       "  <matplotlib.axis.XTick at 0xe79f0f0>,\n",
       "  <matplotlib.axis.XTick at 0xe79f780>,\n",
       "  <matplotlib.axis.XTick at 0xe79fe10>,\n",
       "  <matplotlib.axis.XTick at 0xe7a94e0>,\n",
       "  <matplotlib.axis.XTick at 0xe7a9b70>,\n",
       "  <matplotlib.axis.XTick at 0xe7b4240>,\n",
       "  <matplotlib.axis.XTick at 0xe7b48d0>,\n",
       "  <matplotlib.axis.XTick at 0xe7b4f60>,\n",
       "  <matplotlib.axis.XTick at 0xe7be630>,\n",
       "  <matplotlib.axis.XTick at 0xe7becc0>,\n",
       "  <matplotlib.axis.XTick at 0xe7ca390>,\n",
       "  <matplotlib.axis.XTick at 0xe7caa20>,\n",
       "  <matplotlib.axis.XTick at 0xe85a0f0>,\n",
       "  <matplotlib.axis.XTick at 0xe85a780>,\n",
       "  <matplotlib.axis.XTick at 0xe85ae10>,\n",
       "  <matplotlib.axis.XTick at 0xe8644e0>,\n",
       "  <matplotlib.axis.XTick at 0xe864b70>,\n",
       "  <matplotlib.axis.XTick at 0xe86e240>,\n",
       "  <matplotlib.axis.XTick at 0xe86e8d0>,\n",
       "  <matplotlib.axis.XTick at 0xe86ef60>,\n",
       "  <matplotlib.axis.XTick at 0xe87b630>,\n",
       "  <matplotlib.axis.XTick at 0xe87bcc0>,\n",
       "  <matplotlib.axis.XTick at 0xe885390>,\n",
       "  <matplotlib.axis.XTick at 0xe885a20>,\n",
       "  <matplotlib.axis.XTick at 0xe8920f0>,\n",
       "  <matplotlib.axis.XTick at 0xe892780>,\n",
       "  <matplotlib.axis.XTick at 0xe892e10>,\n",
       "  <matplotlib.axis.XTick at 0xe8de4e0>,\n",
       "  <matplotlib.axis.XTick at 0xe8deb70>,\n",
       "  <matplotlib.axis.XTick at 0xe8e9240>,\n",
       "  <matplotlib.axis.XTick at 0xe8e98d0>,\n",
       "  <matplotlib.axis.XTick at 0xe8e9f60>,\n",
       "  <matplotlib.axis.XTick at 0xe8f5630>,\n",
       "  <matplotlib.axis.XTick at 0xe8f5cc0>,\n",
       "  <matplotlib.axis.XTick at 0xe8ff390>,\n",
       "  <matplotlib.axis.XTick at 0xe8ffa20>,\n",
       "  <matplotlib.axis.XTick at 0xe90b0f0>,\n",
       "  <matplotlib.axis.XTick at 0xe90b780>,\n",
       "  <matplotlib.axis.XTick at 0xe90be10>,\n",
       "  <matplotlib.axis.XTick at 0xe9154e0>,\n",
       "  <matplotlib.axis.XTick at 0xe915b70>],\n",
       " <a list of 47 Text xticklabel objects>)"
      ]
     },
     "execution_count": 109,
     "metadata": {},
     "output_type": "execute_result"
    },
    {
     "data": {
      "image/png": "[encoded data removed]",
      "text/plain": [
       "<matplotlib.figure.Figure at 0xe32a588>"
      ]
     },
     "metadata": {},
     "output_type": "display_data"
    }
   ],
   "source": [
    "plt.bar(range(states[\"rate\"].shape[0]),states[\"rate\"])\n",
    "plt.xticks(range(states.shape[0]),states[\"NAME\"], rotation = \"vertical\")"
   ]
  },
  {
   "cell_type": "markdown",
   "metadata": {},
   "source": [
    "Looks like poor southern states have higher police killing rates than the rich northern states like NYC or Massachusettes"
   ]
  },
  {
   "cell_type": "markdown",
   "metadata": {},
   "source": [
    "# high killing rate states vs low killing rate states"
   ]
  },
  {
   "cell_type": "code",
   "execution_count": 97,
   "metadata": {},
   "outputs": [
    {
     "data": {
      "text/plain": [
       "CA    74\n",
       "TX    46\n",
       "FL    29\n",
       "AZ    25\n",
       "OK    22\n",
       "GA    16\n",
       "NY    14\n",
       "CO    12\n",
       "WA    11\n",
       "NJ    11\n",
       "IL    11\n",
       "LA    11\n",
       "OH    10\n",
       "MD    10\n",
       "NC    10\n",
       "MO    10\n",
       "VA     9\n",
       "MI     9\n",
       "SC     9\n",
       "OR     8\n",
       "AL     8\n",
       "IN     8\n",
       "KY     7\n",
       "PA     7\n",
       "TN     6\n",
       "NE     6\n",
       "MN     6\n",
       "MS     6\n",
       "KS     6\n",
       "WI     5\n",
       "MA     5\n",
       "UT     5\n",
       "NM     5\n",
       "AR     4\n",
       "ID     4\n",
       "HI     4\n",
       "NV     3\n",
       "IA     2\n",
       "AK     2\n",
       "WV     2\n",
       "MT     2\n",
       "DE     2\n",
       "DC     1\n",
       "ME     1\n",
       "CT     1\n",
       "WY     1\n",
       "NH     1\n",
       "Name: state, dtype: int64"
      ]
     },
     "execution_count": 97,
     "metadata": {},
     "output_type": "execute_result"
    }
   ],
   "source": [
    "police_killings[\"state\"].value_counts()"
   ]
  },
  {
   "cell_type": "code",
   "execution_count": 79,
   "metadata": {
    "collapsed": true
   },
   "outputs": [],
   "source": [
    "pk = police_killings[\n",
    "    (police_killings[\"share_white\"] != \"-\") & \n",
    "    (police_killings[\"share_black\"] != \"-\") & \n",
    "    (police_killings[\"share_hispanic\"] != \"-\")\n",
    "]"
   ]
  },
  {
   "cell_type": "code",
   "execution_count": 84,
   "metadata": {},
   "outputs": [
    {
     "data": {
      "text/plain": [
       "0       5.6\n",
       "1       0.5\n",
       "2      16.8\n",
       "3      98.8\n",
       "4       1.7\n",
       "5      79.0\n",
       "6      44.2\n",
       "7      84.1\n",
       "8      66.3\n",
       "9      26.5\n",
       "10     44.9\n",
       "11     12.9\n",
       "12     53.3\n",
       "13      3.1\n",
       "14      7.5\n",
       "15     24.7\n",
       "16      6.4\n",
       "17     15.7\n",
       "18     16.5\n",
       "19     15.2\n",
       "20     58.1\n",
       "21      2.9\n",
       "22     41.4\n",
       "23     76.4\n",
       "24      9.7\n",
       "25     15.1\n",
       "26      1.9\n",
       "27     77.9\n",
       "28      6.5\n",
       "29     89.9\n",
       "       ... \n",
       "437     4.0\n",
       "438    18.1\n",
       "439    19.5\n",
       "440    38.4\n",
       "441    55.3\n",
       "442    20.9\n",
       "443     5.5\n",
       "444     8.5\n",
       "445     0.3\n",
       "446     1.1\n",
       "447     8.4\n",
       "448    15.0\n",
       "449     4.2\n",
       "450    10.4\n",
       "451    10.4\n",
       "452    10.4\n",
       "453    40.1\n",
       "454    60.3\n",
       "455     4.8\n",
       "456     0.0\n",
       "457    18.6\n",
       "458     6.0\n",
       "459     2.5\n",
       "460     7.7\n",
       "461     4.9\n",
       "462     0.0\n",
       "463    20.2\n",
       "464     0.3\n",
       "465    37.1\n",
       "466    12.3\n",
       "Name: share_hispanic, dtype: float64"
      ]
     },
     "execution_count": 84,
     "metadata": {},
     "output_type": "execute_result"
    }
   ],
   "source": [
    "pk[\"share_white\"].astype(float,inplace = True)\n",
    "pk[\"share_black\"].astype(float,inplace = True)\n",
    "pk[\"share_hispanic\"].astype(float,inplace = True)\n"
   ]
  },
  {
   "cell_type": "code",
   "execution_count": 87,
   "metadata": {},
   "outputs": [],
   "source": [
    "lowest_states = [\"CT\", \"PA\", \"IA\", \"NY\", \"MA\", \"NH\", \"ME\", \"IL\", \"OH\", \"WI\"]\n",
    "highest_states = [\"OK\", \"AZ\", \"NE\", \"HI\", \"AK\", \"ID\", \"NM\", \"LA\", \"CO\", \"DE\"]\n",
    "\n",
    "ls = pk[pk[\"state\"].isin(lowest_states)]\n",
    "hs = pk[pk[\"state\"].isin(highest_states)]\n",
    "\n"
   ]
  },
  {
   "cell_type": "code",
   "execution_count": 89,
   "metadata": {},
   "outputs": [
    {
     "data": {
      "text/plain": [
       "pop                4201.660714\n",
       "county_income     54830.839286\n",
       "share_white          60.616071\n",
       "share_black          21.257143\n",
       "share_hispanic       12.948214\n",
       "dtype: float64"
      ]
     },
     "execution_count": 89,
     "metadata": {},
     "output_type": "execute_result"
    }
   ],
   "source": [
    "columns = [\"pop\", \"county_income\", \"share_white\", \"share_black\", \"share_hispanic\"]\n",
    "\n",
    "ls[columns].mean()"
   ]
  },
  {
   "cell_type": "code",
   "execution_count": 90,
   "metadata": {},
   "outputs": [
    {
     "data": {
      "text/plain": [
       "pop                4315.750000\n",
       "county_income     48706.967391\n",
       "share_white          55.652174\n",
       "share_black          11.532609\n",
       "share_hispanic       20.693478\n",
       "dtype: float64"
      ]
     },
     "execution_count": 90,
     "metadata": {},
     "output_type": "execute_result"
    }
   ],
   "source": [
    "hs[columns].mean()"
   ]
  },
  {
   "cell_type": "markdown",
   "metadata": {},
   "source": [
    "Seems like low killing states have similar population, but higher county income, similar share of white people and a higher share of black people living there. It is possible where there's low number of black people, they are considered as minority and their death rate increases, but this data is county level whereas we are looking at state level killings so its not conclusive."
   ]
  },
  {
   "cell_type": "code",
   "execution_count": null,
   "metadata": {
    "collapsed": true
   },
   "outputs": [],
   "source": []
  }
 ],
 "metadata": {
  "kernelspec": {
   "display_name": "Python 3",
   "language": "python",
   "name": "python3"
  },
  "language_info": {
   "codemirror_mode": {
    "name": "ipython",
    "version": 3
   },
   "file_extension": ".py",
   "mimetype": "text/x-python",
   "name": "python",
   "nbconvert_exporter": "python",
   "pygments_lexer": "ipython3",
   "version": "3.6.3"
  }
 },
 "nbformat": 4,
 "nbformat_minor": 1
}
